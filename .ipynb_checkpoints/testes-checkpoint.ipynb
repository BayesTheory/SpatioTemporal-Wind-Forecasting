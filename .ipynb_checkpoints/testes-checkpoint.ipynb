version https://git-lfs.github.com/spec/v1
oid sha256:9f198c0c9e011e37a09514fbdc0d6dba9e91d9bf31701fa0b0e0fa09a82653cc
size 80938
