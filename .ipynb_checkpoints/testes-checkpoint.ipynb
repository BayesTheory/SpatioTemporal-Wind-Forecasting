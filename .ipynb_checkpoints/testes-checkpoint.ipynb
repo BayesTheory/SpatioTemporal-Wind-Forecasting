version https://git-lfs.github.com/spec/v1
oid sha256:9ab8881b0235dece6d7830dc07e4c51ad3483772c96b88e9d14b0cf9879a58ef
size 46553
