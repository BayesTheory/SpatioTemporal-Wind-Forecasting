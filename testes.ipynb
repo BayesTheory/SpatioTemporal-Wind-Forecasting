version https://git-lfs.github.com/spec/v1
oid sha256:2a0136c62570042bf3d2799bc92d34d590e6129baa5d6754d233fba732a9520b
size 15674
